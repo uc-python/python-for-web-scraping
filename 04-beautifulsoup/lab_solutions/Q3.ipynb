{
 "cells": [
  {
   "cell_type": "markdown",
   "metadata": {},
   "source": [
    "# Lab Question 3\n",
    "\n",
    "The Yahoo Finance page for Kroger is located at [https://finance.yahoo.com/quote/KR](https://finance.yahoo.com/quote/KR).\n",
    "Write a Python script or notebook to programmatically pull the current market cap for Kroger.\n",
    "\n",
    "*Note* -- you may want to search for attributes other than ID and class in this problem (it's not required but could make this easier). If you choose to, you can look for custom attributes using `bs.find` via the `attrs` argument...\n",
    "```python\n",
    "bs.find(name='div', attrs={'custom-attribute-name': 'attribute-value'})\n",
    "```"
   ]
  },
  {
   "cell_type": "markdown",
   "metadata": {},
   "source": [
    "### Solution"
   ]
  },
  {
   "cell_type": "code",
   "execution_count": 1,
   "metadata": {},
   "outputs": [],
   "source": [
    "import requests\n",
    "from bs4 import BeautifulSoup"
   ]
  },
  {
   "cell_type": "code",
   "execution_count": 2,
   "metadata": {},
   "outputs": [],
   "source": [
    "url = 'https://finance.yahoo.com/quote/KR'\n",
    "response = requests.get(url)"
   ]
  },
  {
   "cell_type": "code",
   "execution_count": 3,
   "metadata": {},
   "outputs": [],
   "source": [
    "bs = BeautifulSoup(response.content, 'html.parser')"
   ]
  },
  {
   "cell_type": "markdown",
   "metadata": {},
   "source": [
    "I looked over the HTML and found a div with an ID of `quote-summary`, in which all the primary metrics on the page are shown."
   ]
  },
  {
   "cell_type": "code",
   "execution_count": 4,
   "metadata": {},
   "outputs": [],
   "source": [
    "quote_summary = bs.find(name='div', id='quote-summary')"
   ]
  },
  {
   "cell_type": "markdown",
   "metadata": {},
   "source": [
    "And within that div, a `td` (table data cell) with a \"data-test\" attribute.\n",
    "That's not a standard HTML attribute, but we can still access it using the `attrs=` syntax shown in the prompt.\n",
    "\n",
    "There are other ways to do this as well, leaning more on the hierarchy or on some more opaque class and ID names included in the page (such as `class=\"Trsdu(0.3s) \"` -- weird, but should work fine)."
   ]
  },
  {
   "cell_type": "code",
   "execution_count": 5,
   "metadata": {},
   "outputs": [
    {
     "name": "stdout",
     "output_type": "stream",
     "text": [
      "<td class=\"Ta(end) Fw(600) Lh(14px)\" data-reactid=\"138\" data-test=\"MARKET_CAP-value\">\n",
      " <span class=\"Trsdu(0.3s)\" data-reactid=\"139\">\n",
      "  27.604B\n",
      " </span>\n",
      "</td>\n"
     ]
    }
   ],
   "source": [
    "market_cap_td = quote_summary.find(name='td', attrs={'data-test':'MARKET_CAP-value'})\n",
    "print(market_cap_td.prettify())"
   ]
  },
  {
   "cell_type": "markdown",
   "metadata": {},
   "source": [
    "And now we can see that we just want the string inside the enclosed span element..."
   ]
  },
  {
   "cell_type": "code",
   "execution_count": 6,
   "metadata": {},
   "outputs": [
    {
     "data": {
      "text/plain": [
       "'27.604B'"
      ]
     },
     "execution_count": 6,
     "metadata": {},
     "output_type": "execute_result"
    }
   ],
   "source": [
    "market_cap = market_cap_td.span.string\n",
    "market_cap"
   ]
  },
  {
   "cell_type": "markdown",
   "metadata": {},
   "source": [
    "Last, we have to save it in a file."
   ]
  },
  {
   "cell_type": "code",
   "execution_count": 7,
   "metadata": {},
   "outputs": [],
   "source": [
    "# Open a file called kroger.txt for writing\n",
    "with open('kroger.txt', 'w') as f:\n",
    "    f.write(market_cap)"
   ]
  }
 ],
 "metadata": {
  "kernelspec": {
   "display_name": "uc-python-scraping",
   "language": "python",
   "name": "uc-python-scraping"
  },
  "language_info": {
   "codemirror_mode": {
    "name": "ipython",
    "version": 3
   },
   "file_extension": ".py",
   "mimetype": "text/x-python",
   "name": "python",
   "nbconvert_exporter": "python",
   "pygments_lexer": "ipython3",
   "version": "3.8.8"
  }
 },
 "nbformat": 4,
 "nbformat_minor": 4
}
