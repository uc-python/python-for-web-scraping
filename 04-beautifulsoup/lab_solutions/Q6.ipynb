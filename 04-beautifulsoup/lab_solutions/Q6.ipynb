{
 "cells": [
  {
   "cell_type": "markdown",
   "metadata": {},
   "source": [
    "# Lab Question 6\n",
    "Scrape the same four tickers (AAPL, MSFT, GOOG, AMZN) again, but this time extract *both* the \"Market Cap\" and the \"Volume\" fields.\n",
    "Your result should again be in a DataFrame, and this time it might look like the following:\n",
    "\n",
    "| ticker | market_cap | volume |\n",
    "| ----- | -----: |  ---- |\n",
    "| AAPL | 2.118T |  72,0009,482 |\n",
    "\n",
    "If you chose to do the bonus aspect of question 5 and convert market cap to a number, don't worry about it on this question."
   ]
  },
  {
   "cell_type": "markdown",
   "metadata": {},
   "source": [
    "### Solution\n",
    "\n",
    "Most of this code can be taken from Q5, but we need to add logic to find and extract the volume field.\n",
    "\n",
    "Fortunately, all the overview metrics are formatted very similarly -- we just need to look for a `<td>` with slightly different attributes (what you need to update will depend on how you went about locating the original `td` element).\n",
    "This is a common lesson in web scraping: data displayed in the same way on the same part of the page can often be scraped in a very similar way."
   ]
  },
  {
   "cell_type": "code",
   "execution_count": 1,
   "metadata": {},
   "outputs": [],
   "source": [
    "import requests\n",
    "from bs4 import BeautifulSoup\n",
    "import pandas as pd"
   ]
  },
  {
   "cell_type": "code",
   "execution_count": 2,
   "metadata": {},
   "outputs": [],
   "source": [
    "tickers = ['AAPL', 'MSFT', 'GOOG', 'AMZN']\n",
    "rows = []\n",
    "\n",
    "for ticker in tickers:\n",
    "    url = 'https://finance.yahoo.com/quote/' + ticker\n",
    "    filename = ticker + '.txt'\n",
    "    \n",
    "    response = requests.get(url)\n",
    "    bs = BeautifulSoup(response.content, 'html.parser')\n",
    "    quote_summary = bs.find(name='div', id='quote-summary')\n",
    "    # Find the market cap number\n",
    "    market_cap_td = quote_summary.find(name='td', attrs={'data-test':'MARKET_CAP-value'})\n",
    "    market_cap = market_cap_td.span.string\n",
    "    # NEW STUFF: Find the volume number\n",
    "    volume_td = quote_summary.find(name='td', attrs={'data-test': 'TD_VOLUME-value'})\n",
    "    volume = volume_td.span.string\n",
    "    # Create a dictionary representing the information about this ticker.\n",
    "    # Note we need to add the volume here:\n",
    "    ticker_dict = {'ticker': ticker, 'market_cap': market_cap, 'volume': volume}\n",
    "    # Add this dictionary to our list of rows.\n",
    "    rows.append(ticker_dict)\n",
    "\n",
    "# Create a DataFrame from our rows list\n",
    "ticker_df = pd.DataFrame(rows)"
   ]
  },
  {
   "cell_type": "code",
   "execution_count": 3,
   "metadata": {},
   "outputs": [
    {
     "data": {
      "text/html": [
       "<div>\n",
       "<style scoped>\n",
       "    .dataframe tbody tr th:only-of-type {\n",
       "        vertical-align: middle;\n",
       "    }\n",
       "\n",
       "    .dataframe tbody tr th {\n",
       "        vertical-align: top;\n",
       "    }\n",
       "\n",
       "    .dataframe thead th {\n",
       "        text-align: right;\n",
       "    }\n",
       "</style>\n",
       "<table border=\"1\" class=\"dataframe\">\n",
       "  <thead>\n",
       "    <tr style=\"text-align: right;\">\n",
       "      <th></th>\n",
       "      <th>ticker</th>\n",
       "      <th>market_cap</th>\n",
       "      <th>volume</th>\n",
       "    </tr>\n",
       "  </thead>\n",
       "  <tbody>\n",
       "    <tr>\n",
       "      <th>0</th>\n",
       "      <td>AAPL</td>\n",
       "      <td>2.118T</td>\n",
       "      <td>72,009,482</td>\n",
       "    </tr>\n",
       "    <tr>\n",
       "      <th>1</th>\n",
       "      <td>MSFT</td>\n",
       "      <td>1.896T</td>\n",
       "      <td>17,704,303</td>\n",
       "    </tr>\n",
       "    <tr>\n",
       "      <th>2</th>\n",
       "      <td>GOOG</td>\n",
       "      <td>1.598T</td>\n",
       "      <td>941,928</td>\n",
       "    </tr>\n",
       "    <tr>\n",
       "      <th>3</th>\n",
       "      <td>AMZN</td>\n",
       "      <td>1.644T</td>\n",
       "      <td>3,261,109</td>\n",
       "    </tr>\n",
       "  </tbody>\n",
       "</table>\n",
       "</div>"
      ],
      "text/plain": [
       "  ticker market_cap      volume\n",
       "0   AAPL     2.118T  72,009,482\n",
       "1   MSFT     1.896T  17,704,303\n",
       "2   GOOG     1.598T     941,928\n",
       "3   AMZN     1.644T   3,261,109"
      ]
     },
     "execution_count": 3,
     "metadata": {},
     "output_type": "execute_result"
    }
   ],
   "source": [
    "ticker_df"
   ]
  }
 ],
 "metadata": {
  "kernelspec": {
   "display_name": "uc-python-scraping",
   "language": "python",
   "name": "uc-python-scraping"
  },
  "language_info": {
   "codemirror_mode": {
    "name": "ipython",
    "version": 3
   },
   "file_extension": ".py",
   "mimetype": "text/x-python",
   "name": "python",
   "nbconvert_exporter": "python",
   "pygments_lexer": "ipython3",
   "version": "3.8.8"
  }
 },
 "nbformat": 4,
 "nbformat_minor": 4
}
