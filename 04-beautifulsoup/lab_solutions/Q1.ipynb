{
 "cells": [
  {
   "cell_type": "markdown",
   "metadata": {},
   "source": [
    "# Lab Question 1"
   ]
  },
  {
   "cell_type": "markdown",
   "metadata": {},
   "source": [
    "The URL of the Wikipedia page for Harry Potter is `https://en.wikipedia.org/wiki/Harry_Potter_(character)`.\n",
    "Scrape this page for the same details we looked at for Sherlock Holmes, Elizabeth Bennet, and Bilbo Baggins:\n",
    "- Page title\n",
    "- URL of the image of the character\n",
    "- Full text of the page.\n",
    "\n",
    "Save that result in a file called `harry.txt`. Look over its contents to confirm you fetched the information you expected, and follow the image URL (remember that you may need to add `https` at the beginning)."
   ]
  },
  {
   "cell_type": "markdown",
   "metadata": {},
   "source": [
    "## Solution\n",
    "\n",
    "Most of this code can be taken directly from our example in class.\n",
    "What we need to change is:\n",
    "1. The URL to scrape\n",
    "2. The filename to save information in\n",
    "\n",
    "I also took out some of the lines that printed output in order to keep this notebook smaller."
   ]
  },
  {
   "cell_type": "code",
   "execution_count": 1,
   "metadata": {},
   "outputs": [],
   "source": [
    "import requests\n",
    "from bs4 import BeautifulSoup"
   ]
  },
  {
   "cell_type": "code",
   "execution_count": 2,
   "metadata": {
    "tags": []
   },
   "outputs": [],
   "source": [
    "url = 'https://en.wikipedia.org/wiki/Harry_Potter_(character)'\n",
    "filename = 'harry.txt'\n",
    "response = requests.get(url)"
   ]
  },
  {
   "cell_type": "code",
   "execution_count": 3,
   "metadata": {},
   "outputs": [],
   "source": [
    "bs = BeautifulSoup(response.content)"
   ]
  },
  {
   "cell_type": "markdown",
   "metadata": {},
   "source": [
    "### Page Title"
   ]
  },
  {
   "cell_type": "code",
   "execution_count": 4,
   "metadata": {},
   "outputs": [],
   "source": [
    "title = bs.title.string"
   ]
  },
  {
   "cell_type": "markdown",
   "metadata": {},
   "source": [
    "### Image"
   ]
  },
  {
   "cell_type": "code",
   "execution_count": 5,
   "metadata": {},
   "outputs": [],
   "source": [
    "infobox = bs.find(name='table', class_='infobox')\n",
    "image = infobox.img\n",
    "image_url = image['src']"
   ]
  },
  {
   "cell_type": "markdown",
   "metadata": {},
   "source": [
    "### All Text"
   ]
  },
  {
   "cell_type": "code",
   "execution_count": 6,
   "metadata": {},
   "outputs": [],
   "source": [
    "all_paragraphs = bs.find(id='mw-content-text').find_all('p')"
   ]
  },
  {
   "cell_type": "code",
   "execution_count": 7,
   "metadata": {
    "tags": []
   },
   "outputs": [],
   "source": [
    "p_text = ''\n",
    "for paragraph in all_paragraphs:\n",
    "    # Append the concatenated text of the newest paragraph to p_text\n",
    "    p_text = p_text + ''.join(paragraph.strings)\n",
    "    p_text = p_text + '\\n'"
   ]
  },
  {
   "cell_type": "markdown",
   "metadata": {},
   "source": [
    "### Save File"
   ]
  },
  {
   "cell_type": "code",
   "execution_count": 8,
   "metadata": {},
   "outputs": [
    {
     "name": "stdout",
     "output_type": "stream",
     "text": [
      "Done writing!\n"
     ]
    }
   ],
   "source": [
    "with open(filename, 'w') as f:\n",
    "    f.write('Title: ')\n",
    "    f.write(title)\n",
    "    f.write('\\n')\n",
    "    f.write('Image URL: ')\n",
    "    f.write(image_url)\n",
    "    f.write('\\n')\n",
    "    f.write(p_text)\n",
    "print('Done writing!')"
   ]
  }
 ],
 "metadata": {
  "kernelspec": {
   "display_name": "Python 3",
   "language": "python",
   "name": "python3"
  },
  "language_info": {
   "codemirror_mode": {
    "name": "ipython",
    "version": 3
   },
   "file_extension": ".py",
   "mimetype": "text/x-python",
   "name": "python",
   "nbconvert_exporter": "python",
   "pygments_lexer": "ipython3",
   "version": "3.7.3"
  }
 },
 "nbformat": 4,
 "nbformat_minor": 5
}
