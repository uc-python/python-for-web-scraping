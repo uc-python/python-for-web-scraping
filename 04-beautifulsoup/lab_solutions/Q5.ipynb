{
 "cells": [
  {
   "cell_type": "markdown",
   "metadata": {},
   "source": [
    "# Lab Question 5\n",
    "\n",
    "So far, when scraping multiple pages we've saved each page's extracted data to a separate file.\n",
    "However, to do analysis, we usually want all the data in a single file or database for easy loading and processing.\n",
    "\n",
    "Update your solution to question 4 so that each ticker is a row in a Pandas DataFrame, rather than a separate file.\n",
    "The columns should be named `\"ticker\"` and `\"market_cap\"`.\n",
    "\n",
    "For example, the first row of the DataFrame might be\n",
    "\n",
    "| ticker | market_cap |\n",
    "| ----- | ----- | \n",
    "| AAPL | 2.118T |"
   ]
  },
  {
   "cell_type": "markdown",
   "metadata": {},
   "source": [
    "### Solution\n",
    "There are several approaches to this, but the simplest is to create a dictionary for each time through the loop.\n",
    "The dictionary can contain `ticker` and `market_cap` keys.\n",
    "By keeping all the dictionaries in a list, we can pass them all into `pd.DataFrame()` to create a DataFrame from them."
   ]
  },
  {
   "cell_type": "code",
   "execution_count": 1,
   "metadata": {},
   "outputs": [],
   "source": [
    "import requests\n",
    "from bs4 import BeautifulSoup\n",
    "# Remember we need to import Pandas to use DataFrames!\n",
    "import pandas as pd"
   ]
  },
  {
   "cell_type": "code",
   "execution_count": 2,
   "metadata": {},
   "outputs": [],
   "source": [
    "tickers = ['AAPL', 'MSFT', 'GOOG', 'AMZN']\n",
    "rows = []\n",
    "\n",
    "for ticker in tickers:\n",
    "    url = 'https://finance.yahoo.com/quote/' + ticker\n",
    "    filename = ticker + '.txt'\n",
    "    \n",
    "    response = requests.get(url)\n",
    "    bs = BeautifulSoup(response.content, 'html.parser')\n",
    "    quote_summary = bs.find(name='div', id='quote-summary')\n",
    "    market_cap_td = quote_summary.find(name='td', attrs={'data-test':'MARKET_CAP-value'})\n",
    "    market_cap = market_cap_td.span.string\n",
    "    # Create a dictionary representing the information about this ticker.\n",
    "    ticker_dict = {'ticker': ticker, 'market_cap': market_cap}\n",
    "    # Add this dictionary to our list of rows.\n",
    "    rows.append(ticker_dict)\n",
    "\n",
    "# Create a DataFrame from our rows list\n",
    "ticker_df = pd.DataFrame(rows)"
   ]
  },
  {
   "cell_type": "code",
   "execution_count": 3,
   "metadata": {},
   "outputs": [
    {
     "data": {
      "text/html": [
       "<div>\n",
       "<style scoped>\n",
       "    .dataframe tbody tr th:only-of-type {\n",
       "        vertical-align: middle;\n",
       "    }\n",
       "\n",
       "    .dataframe tbody tr th {\n",
       "        vertical-align: top;\n",
       "    }\n",
       "\n",
       "    .dataframe thead th {\n",
       "        text-align: right;\n",
       "    }\n",
       "</style>\n",
       "<table border=\"1\" class=\"dataframe\">\n",
       "  <thead>\n",
       "    <tr style=\"text-align: right;\">\n",
       "      <th></th>\n",
       "      <th>ticker</th>\n",
       "      <th>market_cap</th>\n",
       "    </tr>\n",
       "  </thead>\n",
       "  <tbody>\n",
       "    <tr>\n",
       "      <th>0</th>\n",
       "      <td>AAPL</td>\n",
       "      <td>2.118T</td>\n",
       "    </tr>\n",
       "    <tr>\n",
       "      <th>1</th>\n",
       "      <td>MSFT</td>\n",
       "      <td>1.896T</td>\n",
       "    </tr>\n",
       "    <tr>\n",
       "      <th>2</th>\n",
       "      <td>GOOG</td>\n",
       "      <td>1.599T</td>\n",
       "    </tr>\n",
       "    <tr>\n",
       "      <th>3</th>\n",
       "      <td>AMZN</td>\n",
       "      <td>1.644T</td>\n",
       "    </tr>\n",
       "  </tbody>\n",
       "</table>\n",
       "</div>"
      ],
      "text/plain": [
       "  ticker market_cap\n",
       "0   AAPL     2.118T\n",
       "1   MSFT     1.896T\n",
       "2   GOOG     1.599T\n",
       "3   AMZN     1.644T"
      ]
     },
     "execution_count": 3,
     "metadata": {},
     "output_type": "execute_result"
    }
   ],
   "source": [
    "ticker_df"
   ]
  },
  {
   "cell_type": "markdown",
   "metadata": {},
   "source": [
    "## Bonus Challenge"
   ]
  },
  {
   "cell_type": "markdown",
   "metadata": {},
   "source": [
    "The current format of our market caps isn't ideal for numeric computation. Not only is it a string, but it's not trivially convertible to a number because it's abbreviated (e.g. 2.118T needs to become 2,118,000,000,000). Write code to update the market_cap column to be numeric, and then compute the average market cap of these companies."
   ]
  },
  {
   "cell_type": "markdown",
   "metadata": {},
   "source": [
    "### Solution"
   ]
  },
  {
   "cell_type": "markdown",
   "metadata": {},
   "source": [
    "Since all our companies are listed in trillions, we can just multiply their caps by 1,000,000,000 (after we remove the `\"T\"` and convert them to numbers).\n",
    "\n",
    "This would be quite a bit trickier if some companies' caps were in millions or billions; we'd have to take different actions based on whether the string ended with `\"T\"`, `\"B\"`, or `\"M\"`."
   ]
  },
  {
   "cell_type": "code",
   "execution_count": 4,
   "metadata": {},
   "outputs": [
    {
     "data": {
      "text/plain": [
       "0    2.118000e+09\n",
       "1    1.896000e+09\n",
       "2    1.599000e+09\n",
       "3    1.644000e+09\n",
       "Name: market_cap, dtype: float64"
      ]
     },
     "execution_count": 4,
     "metadata": {},
     "output_type": "execute_result"
    }
   ],
   "source": [
    "# Get rid of the trailing \"T\"\n",
    "market_caps = ticker_df['market_cap'].str.replace('T', '')\n",
    "# Make the column numeric (remember to use floats here, not ints, so we don't lose decimal points!)\n",
    "market_caps = market_caps.astype('float')\n",
    "# Multiply every value by 1 trillion -- A convenient feature of Python numbers is that they ignore\n",
    "# underscores, which lets us write big numbers like this in a more readable way.\n",
    "market_caps = market_caps * 1_000_000_000\n",
    "market_caps"
   ]
  },
  {
   "cell_type": "code",
   "execution_count": 5,
   "metadata": {},
   "outputs": [
    {
     "data": {
      "text/html": [
       "<div>\n",
       "<style scoped>\n",
       "    .dataframe tbody tr th:only-of-type {\n",
       "        vertical-align: middle;\n",
       "    }\n",
       "\n",
       "    .dataframe tbody tr th {\n",
       "        vertical-align: top;\n",
       "    }\n",
       "\n",
       "    .dataframe thead th {\n",
       "        text-align: right;\n",
       "    }\n",
       "</style>\n",
       "<table border=\"1\" class=\"dataframe\">\n",
       "  <thead>\n",
       "    <tr style=\"text-align: right;\">\n",
       "      <th></th>\n",
       "      <th>ticker</th>\n",
       "      <th>market_cap</th>\n",
       "    </tr>\n",
       "  </thead>\n",
       "  <tbody>\n",
       "    <tr>\n",
       "      <th>0</th>\n",
       "      <td>AAPL</td>\n",
       "      <td>2.118000e+09</td>\n",
       "    </tr>\n",
       "    <tr>\n",
       "      <th>1</th>\n",
       "      <td>MSFT</td>\n",
       "      <td>1.896000e+09</td>\n",
       "    </tr>\n",
       "    <tr>\n",
       "      <th>2</th>\n",
       "      <td>GOOG</td>\n",
       "      <td>1.599000e+09</td>\n",
       "    </tr>\n",
       "    <tr>\n",
       "      <th>3</th>\n",
       "      <td>AMZN</td>\n",
       "      <td>1.644000e+09</td>\n",
       "    </tr>\n",
       "  </tbody>\n",
       "</table>\n",
       "</div>"
      ],
      "text/plain": [
       "  ticker    market_cap\n",
       "0   AAPL  2.118000e+09\n",
       "1   MSFT  1.896000e+09\n",
       "2   GOOG  1.599000e+09\n",
       "3   AMZN  1.644000e+09"
      ]
     },
     "execution_count": 5,
     "metadata": {},
     "output_type": "execute_result"
    }
   ],
   "source": [
    "# Now overwrite the original column\n",
    "ticker_df['market_cap'] = market_caps\n",
    "ticker_df"
   ]
  },
  {
   "cell_type": "code",
   "execution_count": 6,
   "metadata": {},
   "outputs": [
    {
     "data": {
      "text/plain": [
       "1814250000.0"
      ]
     },
     "execution_count": 6,
     "metadata": {},
     "output_type": "execute_result"
    }
   ],
   "source": [
    "# Get the average market cap\n",
    "ticker_df['market_cap'].mean()"
   ]
  }
 ],
 "metadata": {
  "kernelspec": {
   "display_name": "uc-python-scraping",
   "language": "python",
   "name": "uc-python-scraping"
  },
  "language_info": {
   "codemirror_mode": {
    "name": "ipython",
    "version": 3
   },
   "file_extension": ".py",
   "mimetype": "text/x-python",
   "name": "python",
   "nbconvert_exporter": "python",
   "pygments_lexer": "ipython3",
   "version": "3.8.8"
  }
 },
 "nbformat": 4,
 "nbformat_minor": 4
}
