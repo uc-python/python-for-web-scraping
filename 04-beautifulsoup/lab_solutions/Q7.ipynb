{
 "cells": [
  {
   "cell_type": "markdown",
   "metadata": {},
   "source": [
    "# Lab Question 7\n",
    "\n",
    "Scrape the countries of the world and the related metrics from the following site: https://scrapethissite.com/pages/simple/\n",
    "\n",
    "Store the result in a DataFrame that looks like the following:\n",
    "\n",
    "| name | capital | population | area |\n",
    "| ---- | ------- | ---------- | ---- |\n",
    "| Andorra | Andorra la Vella | 84000 | 468.0 |\n",
    "| ....\n",
    "\n",
    "Then save your DataFrame as \"countries.csv\"."
   ]
  },
  {
   "cell_type": "markdown",
   "metadata": {},
   "source": [
    "### Solution\n",
    "\n",
    "This website is very scraping-friendly, but we still have to string together a lot of concept we've been practicing in more contained problems:\n",
    "- Fetching HTML with `requests`\n",
    "- Parsing it with the BeautifulSoup class\n",
    "- Locating elements of interest\n",
    "- Looping over multiple elements\n",
    "- Creating a DataFrame from scraped elements\n",
    "\n",
    "As for finding the elements, the simplest \"container\" to loop over is the \"col-md-4 country\" `div` element -- there is one of these for each country, so we can `find_all()` and then extract the information within each."
   ]
  },
  {
   "cell_type": "code",
   "execution_count": 1,
   "metadata": {},
   "outputs": [],
   "source": [
    "import requests\n",
    "from bs4 import BeautifulSoup\n",
    "import pandas as pd"
   ]
  },
  {
   "cell_type": "code",
   "execution_count": null,
   "metadata": {},
   "outputs": [],
   "source": [
    "URL = 'https://scrapethissite.com/pages/simple/'\n",
    "\n",
    "# Get the site HTML and parse it.\n",
    "response = requests.get(URL)\n",
    "bs = BeautifulSoup(response.content, 'html.parser')\n",
    "# Find the divs that contain countries.\n",
    "divs = bs.find_all(name='div', class_='col-md-4 country')\n",
    "\n",
    "# For each one, extract name, capital, population, and area --\n",
    "# store that info in a dictionary and add it to our list of rows.\n",
    "rows = []\n",
    "for div in divs:\n",
    "    #######\n",
    "    # Name\n",
    "    #######\n",
    "    # We can't just use div.h3.string because there is also an image within\n",
    "    #$ the h3 (not just text.)\n",
    "    name = ''.join(div.h3.strings)\n",
    "    # (Optional) Get rid of whitespace around the country name\n",
    "    name = name.strip()\n",
    "    \n",
    "    # Everything else is simpler; use the span classes and .string.\n",
    "    \n",
    "    # Capital\n",
    "    capital = div.find(name='span', class_='country-capital').string\n",
    "    # Population\n",
    "    population = div.find(name='span', class_='country-population').string\n",
    "    # Area\n",
    "    area = div.find(name='span', class_='country-area').string\n",
    "    \n",
    "    # Create a dictionary of this info\n",
    "    country_dict = {'name': name, 'capital': capital, 'population': population, 'area': area}\n",
    "    # Add it to our list of rows\n",
    "    rows.append(country_dict)"
   ]
  },
  {
   "cell_type": "code",
   "execution_count": null,
   "metadata": {},
   "outputs": [],
   "source": [
    "# Now just transform our rows into a DataFrame\n",
    "country_df = pd.DataFrame(rows)\n",
    "country_df"
   ]
  },
  {
   "cell_type": "code",
   "execution_count": null,
   "metadata": {},
   "outputs": [],
   "source": [
    "# Save it\n",
    "# index=False is a nice option when saving DataFrames -- it omits the row index.\n",
    "country_df.to_csv('countries.csv', index=False)"
   ]
  }
 ],
 "metadata": {
  "kernelspec": {
   "display_name": "uc-python-scraping",
   "language": "python",
   "name": "uc-python-scraping"
  },
  "language_info": {
   "codemirror_mode": {
    "name": "ipython",
    "version": 3
   },
   "file_extension": ".py",
   "mimetype": "text/x-python",
   "name": "python",
   "nbconvert_exporter": "python",
   "pygments_lexer": "ipython3",
   "version": "3.8.8"
  }
 },
 "nbformat": 4,
 "nbformat_minor": 4
}
