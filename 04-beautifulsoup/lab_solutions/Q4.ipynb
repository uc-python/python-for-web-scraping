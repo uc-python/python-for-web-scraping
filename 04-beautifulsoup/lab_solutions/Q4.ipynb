{
 "cells": [
  {
   "cell_type": "markdown",
   "metadata": {},
   "source": [
    "# Lab Question 4\n",
    "\n",
    "In general, a company's Yahoo Finance overview can be found by appending its ticker (e.g. KR) to the URL 'https://finance.yahoo.com/quote/'.\n",
    "Write a loop to extract the market cap for each of the following tickers and save them in files named based on the company's ticker (e.g. Apple's market cap should be stored in `AAPL.txt`).\n",
    "\n",
    "Tickers: AAPL, MSFT, GOOG, AMZN\n",
    "\n",
    "\n",
    "Here is some code to get you started writing your loop:\n",
    "```python\n",
    "tickers = ['AAPL', 'MSFT', 'GOOG', 'AMZN']\n",
    "\n",
    "for ticker in tickers:\n",
    "    url = 'https://finance.yahoo.com/quote/' + ticker\n",
    "    filename = ticker + '.txt'\n",
    "    ...\n",
    "```"
   ]
  },
  {
   "cell_type": "markdown",
   "metadata": {},
   "source": [
    "### Solution\n",
    "\n",
    "Like Question 2, much of this answer can be pulled from the previous question – we just need to move the code inside a loop and change URL and filename to be variables instead of hardcoded values."
   ]
  },
  {
   "cell_type": "code",
   "execution_count": 1,
   "metadata": {},
   "outputs": [],
   "source": [
    "import requests\n",
    "from bs4 import BeautifulSoup"
   ]
  },
  {
   "cell_type": "code",
   "execution_count": 2,
   "metadata": {},
   "outputs": [],
   "source": [
    "tickers = ['AAPL', 'MSFT', 'GOOG', 'AMZN']\n",
    "\n",
    "for ticker in tickers:\n",
    "    url = 'https://finance.yahoo.com/quote/' + ticker\n",
    "    filename = ticker + '.txt'\n",
    "    \n",
    "    response = requests.get(url)\n",
    "    bs = BeautifulSoup(response.content, 'html.parser')\n",
    "    quote_summary = bs.find(name='div', id='quote-summary')\n",
    "    market_cap_td = quote_summary.find(name='td', attrs={'data-test':'MARKET_CAP-value'})\n",
    "    market_cap = market_cap_td.span.string\n",
    "    with open(filename, 'w') as f:\n",
    "        f.write(market_cap)"
   ]
  }
 ],
 "metadata": {
  "kernelspec": {
   "display_name": "uc-python-scraping",
   "language": "python",
   "name": "uc-python-scraping"
  },
  "language_info": {
   "codemirror_mode": {
    "name": "ipython",
    "version": 3
   },
   "file_extension": ".py",
   "mimetype": "text/x-python",
   "name": "python",
   "nbconvert_exporter": "python",
   "pygments_lexer": "ipython3",
   "version": "3.8.8"
  }
 },
 "nbformat": 4,
 "nbformat_minor": 4
}
