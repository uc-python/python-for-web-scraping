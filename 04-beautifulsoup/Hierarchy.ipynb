{
 "cells": [
  {
   "cell_type": "code",
   "execution_count": 7,
   "id": "ec0cd947-8723-4829-88ee-7413b8b4dd74",
   "metadata": {},
   "outputs": [],
   "source": [
    "html = '''\n",
    "<html>\n",
    "  <head>\n",
    "    <title>My Blog - Homepage</title>\n",
    "  </head>\n",
    "  <body>\n",
    "    <div class=\"content\" id=\"main-content\">\n",
    "      <h1>My Blog Posts</h1>\n",
    "      <p>My favorite thing to do is to eat lunch; it's relaxing and so interesting.</p>\n",
    "      <p>Sometimes I just eat lunch all day.</p>\n",
    "      <p>My favorite lunch blog is <a href=\"https://lunchblog.com\">The LunchBlog</a>.</p>\n",
    "      <p>It makes me <span class=\"bold red\">very</span> hungry.</p>\n",
    "    </div>\n",
    "  </body>\n",
    "</html>\n",
    "'''"
   ]
  },
  {
   "cell_type": "code",
   "execution_count": 5,
   "id": "f327e07b-f573-4170-9fcc-f8b8efbc335c",
   "metadata": {},
   "outputs": [],
   "source": [
    "from IPython.display import HTML"
   ]
  },
  {
   "cell_type": "code",
   "execution_count": 6,
   "id": "76f03c51-1924-4408-93a7-a7dc936e9d54",
   "metadata": {},
   "outputs": [
    {
     "data": {
      "text/html": [
       "\n",
       "<html>\n",
       "  <head>\n",
       "    <title>My Blog - Hompage</title>\n",
       "  </head>\n",
       "  <body>\n",
       "    <div class=\"content\" id=\"main-content\">\n",
       "      <h1>My Blog Posts</h1>\n",
       "      <p>My favorite thing to do is to eat lunch; it's relaxing and so interesting.</p>\n",
       "      <p>Sometimes I just eat lunch all day.</p>\n",
       "      <p>My favorite lunch blog is <a href=\"https://lunchblog.com\">The LunchBlog</a>.</p>\n",
       "      <p>It makes me <span class=\"bold red\">very</span> hungry.</p>\n",
       "    </div>\n",
       "  </body>\n",
       "</html>\n"
      ],
      "text/plain": [
       "<IPython.core.display.HTML object>"
      ]
     },
     "execution_count": 6,
     "metadata": {},
     "output_type": "execute_result"
    }
   ],
   "source": [
    "HTML(html)"
   ]
  },
  {
   "cell_type": "code",
   "execution_count": null,
   "id": "9fe273e7-c9b5-458d-a906-1ade0e86b011",
   "metadata": {},
   "outputs": [],
   "source": []
  }
 ],
 "metadata": {
  "kernelspec": {
   "display_name": "Python 3",
   "language": "python",
   "name": "python3"
  },
  "language_info": {
   "codemirror_mode": {
    "name": "ipython",
    "version": 3
   },
   "file_extension": ".py",
   "mimetype": "text/x-python",
   "name": "python",
   "nbconvert_exporter": "python",
   "pygments_lexer": "ipython3",
   "version": "3.8.8"
  }
 },
 "nbformat": 4,
 "nbformat_minor": 5
}
