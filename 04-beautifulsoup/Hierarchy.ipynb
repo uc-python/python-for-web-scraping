{
 "cells": [
  {
   "cell_type": "code",
   "execution_count": 1,
   "id": "ec0cd947-8723-4829-88ee-7413b8b4dd74",
   "metadata": {},
   "outputs": [],
   "source": [
    "html = '''\n",
    "<html>\n",
    "  <head>\n",
    "    <title>My Blog - Homepage</title>\n",
    "  </head>\n",
    "  <body>\n",
    "    <div class=\"content\" id=\"main-content\">\n",
    "      <h1>Blog Post: I Love Lunch</h1>\n",
    "      <p>My favorite thing to do is to eat lunch; it's relaxing and so interesting.</p>\n",
    "      <p>Sometimes I just eat lunch all day.</p>\n",
    "      <p>My favorite lunch blog is <a href=\"https://lunchblog.com\">The LunchBlog</a>.</p>\n",
    "      <p>It makes me <span class=\"bold red\">very</span> hungry.</p>\n",
    "    </div>\n",
    "    <div class=\"content\" id=\"lunch-list\">\n",
    "        <h3>Some lunches I enjoy</h3>\n",
    "        <ul class=\"small-bullets\">\n",
    "          <li>Peanut butter sandwich</li>\n",
    "          <li>Ramen</li>\n",
    "          <li>Chicken Korma</a>\n",
    "          <li><em>etc.</em></li>\n",
    "        </ul>\n",
    "    </div>\n",
    "    <div class=\"image-container content\">\n",
    "        <a href=\"https://www.google.com/search?q=lunch\">\n",
    "            <img src=\"assets/burger.jpeg\" class=\"blog-post-image\" width=\"400px\">\n",
    "        </a>\n",
    "    </div>\n",
    "    <div class=\"signoff\">\n",
    "        <p>Thanks for reading! Your friend, Ethan.</p>\n",
    "        <p>Find me on twitter <a href=\"https://twitter.com/eswan18\">here</a></p>\n",
    "    </div>\n",
    "  </body>\n",
    "</html>\n",
    "'''"
   ]
  },
  {
   "cell_type": "code",
   "execution_count": 2,
   "id": "865364ca-ceb0-45eb-b815-3274d4029dcb",
   "metadata": {},
   "outputs": [],
   "source": [
    "from IPython.display import HTML"
   ]
  },
  {
   "cell_type": "code",
   "execution_count": 3,
   "id": "58ab6da3-7cd4-40a6-9388-985e46700d53",
   "metadata": {
    "collapsed": true,
    "jupyter": {
     "outputs_hidden": true
    },
    "tags": []
   },
   "outputs": [
    {
     "data": {
      "text/html": [
       "\n",
       "<html>\n",
       "  <head>\n",
       "    <title>My Blog - Homepage</title>\n",
       "  </head>\n",
       "  <body>\n",
       "    <div class=\"content\" id=\"main-content\">\n",
       "      <h1>Blog Post: I Love Lunch</h1>\n",
       "      <p>My favorite thing to do is to eat lunch; it's relaxing and so interesting.</p>\n",
       "      <p>Sometimes I just eat lunch all day.</p>\n",
       "      <p>My favorite lunch blog is <a href=\"https://lunchblog.com\">The LunchBlog</a>.</p>\n",
       "      <p>It makes me <span class=\"bold red\">very</span> hungry.</p>\n",
       "    </div>\n",
       "    <div class=\"content\" id=\"lunch-list\">\n",
       "        <h3>Some lunches I enjoy</h3>\n",
       "        <ul class=\"small-bullets\">\n",
       "          <li>Peanut butter sandwich</li>\n",
       "          <li>Ramen</li>\n",
       "          <li>Chicken Korma</a>\n",
       "          <li><em>etc.</em></li>\n",
       "        </ul>\n",
       "    </div>\n",
       "    <div class=\"image-container content\">\n",
       "        <a href=\"https://www.google.com/search?q=lunch\">\n",
       "            <img src=\"assets/burger.jpeg\" class=\"blog-post-image\" width=\"400px\">\n",
       "        </a>\n",
       "    </div>\n",
       "    <div class=\"signoff\">\n",
       "        <p>Thanks for reading! Your friend, Ethan.</p>\n",
       "        <p>Find me on twitter <a href=\"https://twitter.com/eswan18\">here</a></p>\n",
       "    </div>\n",
       "  </body>\n",
       "</html>\n"
      ],
      "text/plain": [
       "<IPython.core.display.HTML object>"
      ]
     },
     "execution_count": 3,
     "metadata": {},
     "output_type": "execute_result"
    }
   ],
   "source": [
    "HTML(html)"
   ]
  },
  {
   "cell_type": "markdown",
   "id": "b8b910c2-5181-4d45-ae69-955cf5f8b880",
   "metadata": {},
   "source": [
    "### Extract title"
   ]
  },
  {
   "cell_type": "code",
   "execution_count": 4,
   "id": "80d22643-8b15-4760-8c77-8ff5aa8c6e38",
   "metadata": {},
   "outputs": [],
   "source": [
    "from bs4 import BeautifulSoup\n",
    "bs = BeautifulSoup(html)"
   ]
  },
  {
   "cell_type": "code",
   "execution_count": 12,
   "id": "b0bf4870-dae4-4f22-9f5e-16d8baea9d13",
   "metadata": {
    "tags": []
   },
   "outputs": [
    {
     "data": {
      "text/plain": [
       "'My Blog - Homepage'"
      ]
     },
     "execution_count": 12,
     "metadata": {},
     "output_type": "execute_result"
    }
   ],
   "source": [
    "title = bs.title.string\n",
    "title"
   ]
  },
  {
   "cell_type": "markdown",
   "id": "4b6418da-0cae-4df2-9b21-b35c5a639c8d",
   "metadata": {},
   "source": [
    "### Extract third paragraph of content div"
   ]
  },
  {
   "cell_type": "code",
   "execution_count": 22,
   "id": "fe8c8a02-3c5f-4277-ac9e-b6dba2b6278d",
   "metadata": {},
   "outputs": [],
   "source": [
    "# Get first paragraph of content div\n",
    "first_p = bs.html.body.div.p\n",
    "# Get the third paragraph\n",
    "third_p = first_p.next_sibling.next_sibling.next_sibling.next_sibling\n",
    "# Get the enclosed text as a sentence\n",
    "all_text = list(third_p.strings)"
   ]
  },
  {
   "cell_type": "code",
   "execution_count": 23,
   "id": "f4cd31d6-fa50-4aa5-bbcd-d92c5477ecc8",
   "metadata": {},
   "outputs": [
    {
     "data": {
      "text/plain": [
       "['My favorite lunch blog is ', 'The LunchBlog', '.']"
      ]
     },
     "execution_count": 23,
     "metadata": {},
     "output_type": "execute_result"
    }
   ],
   "source": [
    "all_text"
   ]
  },
  {
   "cell_type": "code",
   "execution_count": 32,
   "id": "6042ff42-e95f-4f2c-950d-30f7fb1e1cb3",
   "metadata": {},
   "outputs": [
    {
     "data": {
      "text/plain": [
       "'My favorite lunch blog is The LunchBlog.'"
      ]
     },
     "execution_count": 32,
     "metadata": {},
     "output_type": "execute_result"
    }
   ],
   "source": [
    "third_p_sentence = ''.join(all_text)\n",
    "third_p_sentence"
   ]
  },
  {
   "cell_type": "code",
   "execution_count": null,
   "id": "d224abe6-2ea4-4866-998c-2c8c7ac47113",
   "metadata": {},
   "outputs": [],
   "source": []
  }
 ],
 "metadata": {
  "kernelspec": {
   "display_name": "Python 3",
   "language": "python",
   "name": "python3"
  },
  "language_info": {
   "codemirror_mode": {
    "name": "ipython",
    "version": 3
   },
   "file_extension": ".py",
   "mimetype": "text/x-python",
   "name": "python",
   "nbconvert_exporter": "python",
   "pygments_lexer": "ipython3",
   "version": "3.8.8"
  }
 },
 "nbformat": 4,
 "nbformat_minor": 5
}
