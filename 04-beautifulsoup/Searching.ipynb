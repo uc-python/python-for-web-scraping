{
 "cells": [
  {
   "cell_type": "code",
   "execution_count": 1,
   "id": "ec0cd947-8723-4829-88ee-7413b8b4dd74",
   "metadata": {},
   "outputs": [],
   "source": [
    "html = '''\n",
    "<html>\n",
    "  <head>\n",
    "    <title>My Blog - Homepage</title>\n",
    "  </head>\n",
    "  <body>\n",
    "    <div class=\"content\" id=\"main-content\">\n",
    "      <h1>Blog Post: I Love Lunch</h1>\n",
    "      <p>My favorite thing to do is to eat lunch; it's relaxing and so interesting.</p>\n",
    "      <p>Sometimes I just eat lunch all day.</p>\n",
    "      <p>My favorite lunch blog is <a href=\"https://lunchblog.com\">The LunchBlog</a>.</p>\n",
    "      <p>It makes me <span class=\"bold red\">very</span> hungry.</p>\n",
    "    </div>\n",
    "    <div class=\"content\" id=\"lunch-list\">\n",
    "        <h3>Some lunches I enjoy</h3>\n",
    "        <ul class=\"small-bullets\">\n",
    "          <li>Peanut butter sandwich</li>\n",
    "          <li>Ramen</li>\n",
    "          <li>Chicken Korma</a>\n",
    "          <li><em>etc.</em></li>\n",
    "        </ul>\n",
    "    </div>\n",
    "    <div class=\"image-container content\">\n",
    "        <a href=\"https://www.google.com/search?q=lunch\">\n",
    "            <img src=\"assets/burger.jpeg\" class=\"blog-post-image\" width=\"400px\">\n",
    "        </a>\n",
    "    </div>\n",
    "    <div class=\"signoff\">\n",
    "        <p>Thanks for reading! Your friend, Ethan.</p>\n",
    "        <p>Find me on twitter <a href=\"https://twitter.com/eswan18\">here</a></p>\n",
    "    </div>\n",
    "  </body>\n",
    "</html>\n",
    "'''"
   ]
  },
  {
   "cell_type": "code",
   "execution_count": 2,
   "id": "865364ca-ceb0-45eb-b815-3274d4029dcb",
   "metadata": {},
   "outputs": [],
   "source": [
    "from bs4 import BeautifulSoup"
   ]
  },
  {
   "cell_type": "code",
   "execution_count": 3,
   "id": "e3c4e8a1-d9a2-4199-a7a7-3aaa094d335a",
   "metadata": {},
   "outputs": [],
   "source": [
    "bs = BeautifulSoup(html)"
   ]
  },
  {
   "cell_type": "code",
   "execution_count": 11,
   "id": "a63dd634-5d10-4190-832c-925ab0cca635",
   "metadata": {},
   "outputs": [
    {
     "data": {
      "text/plain": [
       "<div class=\"signoff\">\n",
       "<p>Thanks for reading! Your friend, Ethan.</p>\n",
       "<p>Find me on twitter <a href=\"https://twitter.com/eswan18\">here</a></p>\n",
       "</div>"
      ]
     },
     "execution_count": 11,
     "metadata": {},
     "output_type": "execute_result"
    }
   ],
   "source": [
    "bs.body.div.next_sibling.next_sibling.next_sibling.next_sibling.next_sibling.next_sibling"
   ]
  },
  {
   "cell_type": "markdown",
   "id": "c2dcd0e6-cadb-4fc4-961b-d0c14cae1d45",
   "metadata": {},
   "source": [
    "### Extract the link to Twitter in the signoff div"
   ]
  },
  {
   "cell_type": "code",
   "execution_count": 16,
   "id": "8d8952b8-fd67-4789-b228-344ed4cf75db",
   "metadata": {},
   "outputs": [
    {
     "data": {
      "text/plain": [
       "'https://twitter.com/eswan18'"
      ]
     },
     "execution_count": 16,
     "metadata": {},
     "output_type": "execute_result"
    }
   ],
   "source": [
    "bs.find(name='div', class_='signoff').a['href']"
   ]
  },
  {
   "cell_type": "markdown",
   "id": "03e7e076-b8d3-4de8-b50c-98986f9083a9",
   "metadata": {},
   "source": [
    "### Get all text in content divs"
   ]
  },
  {
   "cell_type": "code",
   "execution_count": 19,
   "id": "b83b6d45-908b-4334-bd80-dcea0f501a2d",
   "metadata": {},
   "outputs": [],
   "source": [
    "all_content_divs = bs.find_all(class_='content')"
   ]
  },
  {
   "cell_type": "code",
   "execution_count": 20,
   "id": "ddbf80b6-baea-45aa-9374-69224a493d8d",
   "metadata": {},
   "outputs": [
    {
     "data": {
      "text/plain": [
       "3"
      ]
     },
     "execution_count": 20,
     "metadata": {},
     "output_type": "execute_result"
    }
   ],
   "source": [
    "len(all_content_divs)"
   ]
  },
  {
   "cell_type": "code",
   "execution_count": 27,
   "id": "97f2a2b1-4749-478d-a55a-8df5487b261e",
   "metadata": {},
   "outputs": [
    {
     "name": "stdout",
     "output_type": "stream",
     "text": [
      "\n",
      "Blog Post: I Love Lunch\n",
      "My favorite thing to do is to eat lunch; it's relaxing and so interesting.\n",
      "Sometimes I just eat lunch all day.\n",
      "My favorite lunch blog is The LunchBlog.\n",
      "It makes me very hungry.\n",
      "\n"
     ]
    }
   ],
   "source": [
    "print(''.join(all_content_divs[0].strings))"
   ]
  },
  {
   "cell_type": "code",
   "execution_count": 35,
   "id": "4e8753a1-c8ff-44ff-8ee2-d715c7c64f4c",
   "metadata": {},
   "outputs": [
    {
     "name": "stdout",
     "output_type": "stream",
     "text": [
      "\n",
      "Blog Post: I Love Lunch\n",
      "My favorite thing to do is to eat lunch; it's relaxing and so interesting.\n",
      "Sometimes I just eat lunch all day.\n",
      "My favorite lunch blog is The LunchBlog.\n",
      "It makes me very hungry.\n",
      "\n",
      "Some lunches I enjoy\n",
      "\n",
      "Peanut butter sandwich\n",
      "Ramen\n",
      "Chicken Korma\n",
      "          etc.\n",
      "\n",
      "\n",
      "\n",
      "\n",
      "\n",
      "\n"
     ]
    }
   ],
   "source": [
    "total_text = ''\n",
    "for div in all_content_divs:\n",
    "    current_div_text = ''.join(div.strings)\n",
    "    total_text = total_text + current_div_text\n",
    "print(total_text)"
   ]
  },
  {
   "cell_type": "markdown",
   "id": "545c7fb8-9993-4bfc-a84f-0037efb5aa50",
   "metadata": {},
   "source": [
    "### Get last element of lunch list"
   ]
  },
  {
   "cell_type": "code",
   "execution_count": 44,
   "id": "15526f64-8c5d-4420-8279-3eb9b3c3cde0",
   "metadata": {},
   "outputs": [
    {
     "data": {
      "text/plain": [
       "<div class=\"content\" id=\"lunch-list\">\n",
       "<h3>Some lunches I enjoy</h3>\n",
       "<ul class=\"small-bullets\">\n",
       "<li>Peanut butter sandwich</li>\n",
       "<li>Ramen</li>\n",
       "<li>Chicken Korma\n",
       "          </li><li><em>etc.</em></li>\n",
       "</ul>\n",
       "</div>"
      ]
     },
     "execution_count": 44,
     "metadata": {},
     "output_type": "execute_result"
    }
   ],
   "source": [
    "lunch_list = bs.find(name='div', id='lunch-list')\n",
    "lunch_list"
   ]
  },
  {
   "cell_type": "code",
   "execution_count": 45,
   "id": "02c317a3-20ee-435d-96e1-9b2b4849b9e7",
   "metadata": {},
   "outputs": [
    {
     "data": {
      "text/plain": [
       "'etc.'"
      ]
     },
     "execution_count": 45,
     "metadata": {},
     "output_type": "execute_result"
    }
   ],
   "source": [
    "lunch_list.ul.find_all(name='li')[-1].string"
   ]
  },
  {
   "cell_type": "code",
   "execution_count": null,
   "id": "6bfd7dd1-888e-4947-b4d2-836eb020bf4e",
   "metadata": {},
   "outputs": [],
   "source": [
    "dd"
   ]
  }
 ],
 "metadata": {
  "kernelspec": {
   "display_name": "Python 3",
   "language": "python",
   "name": "python3"
  },
  "language_info": {
   "codemirror_mode": {
    "name": "ipython",
    "version": 3
   },
   "file_extension": ".py",
   "mimetype": "text/x-python",
   "name": "python",
   "nbconvert_exporter": "python",
   "pygments_lexer": "ipython3",
   "version": "3.8.8"
  }
 },
 "nbformat": 4,
 "nbformat_minor": 5
}
