{
 "cells": [
  {
   "cell_type": "code",
   "execution_count": null,
   "id": "ec0cd947-8723-4829-88ee-7413b8b4dd74",
   "metadata": {},
   "outputs": [],
   "source": [
    "html = '''\n",
    "<html>\n",
    "  <head>\n",
    "    <title>My Blog - Homepage</title>\n",
    "  </head>\n",
    "  <body>\n",
    "    <div class=\"content\" id=\"main-content\">\n",
    "      <h1>Blog Post: I Love Lunch</h1>\n",
    "      <p>My favorite thing to do is to eat lunch; it's relaxing and so interesting.</p>\n",
    "      <p>Sometimes I just eat lunch all day.</p>\n",
    "      <p>My favorite lunch blog is <a href=\"https://lunchblog.com\">The LunchBlog</a>.</p>\n",
    "      <p>It makes me <span class=\"bold red\">very</span> hungry.</p>\n",
    "    </div>\n",
    "    <div class=\"content\" id=\"lunch-list\">\n",
    "        <h3>Some lunches I enjoy</h3>\n",
    "        <ul class=\"small-bullets\">\n",
    "          <li>Peanut butter sandwich</li>\n",
    "          <li>Ramen</li>\n",
    "          <li>Chicken Korma</a>\n",
    "          <li><em>etc.</em></li>\n",
    "        </ul>\n",
    "    </div>\n",
    "    <div class=\"image-container content\">\n",
    "        <a href=\"https://www.google.com/search?q=lunch\">\n",
    "            <img src=\"assets/burger.jpeg\" class=\"blog-post-image\" width=\"400px\">\n",
    "        </a>\n",
    "    </div>\n",
    "    <div class=\"signoff\">\n",
    "        <p>Thanks for reading! Your friend, Ethan.</p>\n",
    "        <p>Find me on twitter <a href=\"https://twitter.com/eswan18\">here</a></p>\n",
    "    </div>\n",
    "  </body>\n",
    "</html>\n",
    "'''"
   ]
  },
  {
   "cell_type": "code",
   "execution_count": null,
   "id": "865364ca-ceb0-45eb-b815-3274d4029dcb",
   "metadata": {},
   "outputs": [],
   "source": []
  }
 ],
 "metadata": {
  "kernelspec": {
   "display_name": "Python 3",
   "language": "python",
   "name": "python3"
  },
  "language_info": {
   "codemirror_mode": {
    "name": "ipython",
    "version": 3
   },
   "file_extension": ".py",
   "mimetype": "text/x-python",
   "name": "python",
   "nbconvert_exporter": "python",
   "pygments_lexer": "ipython3",
   "version": "3.8.8"
  }
 },
 "nbformat": 4,
 "nbformat_minor": 5
}
