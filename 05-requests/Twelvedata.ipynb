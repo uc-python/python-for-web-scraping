{
 "cells": [
  {
   "cell_type": "code",
   "execution_count": 1,
   "id": "d08aebca-1c44-41d6-9f82-a8f01a4bdafe",
   "metadata": {},
   "outputs": [
    {
     "name": "stdin",
     "output_type": "stream",
     "text": [
      " ································\n"
     ]
    }
   ],
   "source": [
    "import getpass\n",
    "API_KEY = getpass.getpass()"
   ]
  },
  {
   "cell_type": "code",
   "execution_count": 22,
   "id": "8e80ca2b-ac9f-44dc-aa91-7daf661a0e66",
   "metadata": {},
   "outputs": [],
   "source": [
    "URL = 'https://api.twelvedata.com/time_series'"
   ]
  },
  {
   "cell_type": "markdown",
   "id": "82447778-2ad7-4a3c-92aa-17c69427dae5",
   "metadata": {},
   "source": [
    "### Constructing parameter string manually"
   ]
  },
  {
   "cell_type": "code",
   "execution_count": 23,
   "id": "b5eba0d7-71bc-416e-aa46-32fed231f5bb",
   "metadata": {},
   "outputs": [],
   "source": [
    "parameter_string = 'symbol=KR&interval=1day&outputsize=12&apikey='"
   ]
  },
  {
   "cell_type": "code",
   "execution_count": 24,
   "id": "022ee649-cae4-413e-ae2d-298896c9f4ae",
   "metadata": {},
   "outputs": [],
   "source": [
    "import requests\n",
    "response = requests.get(URL + parameter_string + API_KEY)"
   ]
  },
  {
   "cell_type": "code",
   "execution_count": 25,
   "id": "b3bf3b02-9430-41f6-bd3d-f1d19c531254",
   "metadata": {},
   "outputs": [
    {
     "data": {
      "text/plain": [
       "<Response [404]>"
      ]
     },
     "execution_count": 25,
     "metadata": {},
     "output_type": "execute_result"
    }
   ],
   "source": [
    "response"
   ]
  },
  {
   "cell_type": "code",
   "execution_count": 18,
   "id": "b60eaaf4-0980-427e-8564-2a2f16f2c5fd",
   "metadata": {},
   "outputs": [
    {
     "data": {
      "text/plain": [
       "b'{\"code\":401,\"message\":\"**apikey** parameter is incorrect or not specified. You can get your free API Key instantly following this link: https://twelvedata.com/apikey. If you believe that everything is correct, you can email us at apikey@twelvedata.com\",\"status\":\"error\"}'"
      ]
     },
     "execution_count": 18,
     "metadata": {},
     "output_type": "execute_result"
    }
   ],
   "source": [
    "response.content"
   ]
  },
  {
   "cell_type": "markdown",
   "id": "af678c7f-56c8-4b64-8488-d239fe3a96e1",
   "metadata": {},
   "source": [
    "### Constructing the parameter string automatically with requests"
   ]
  },
  {
   "cell_type": "code",
   "execution_count": 40,
   "id": "6c396013-9beb-4070-bfc6-2d90946d4726",
   "metadata": {},
   "outputs": [],
   "source": [
    "param_dict = {\n",
    "    'symbol': 'KR',\n",
    "    'interval': '1day',\n",
    "    'ouputsize': '12',\n",
    "    'apikey': API_KEY\n",
    "}\n",
    "response = requests.get(URL, params=param_dict)"
   ]
  },
  {
   "cell_type": "code",
   "execution_count": 41,
   "id": "80156ce8-ed73-49c3-adc2-74ad300cb15e",
   "metadata": {},
   "outputs": [
    {
     "data": {
      "text/plain": [
       "<Response [200]>"
      ]
     },
     "execution_count": 41,
     "metadata": {},
     "output_type": "execute_result"
    }
   ],
   "source": [
    "response"
   ]
  },
  {
   "cell_type": "code",
   "execution_count": 42,
   "id": "9d58dec9-6a03-4d5b-8caf-28dca7a5341f",
   "metadata": {},
   "outputs": [],
   "source": [
    "kroger_info = response.json()"
   ]
  },
  {
   "cell_type": "code",
   "execution_count": 43,
   "id": "932fe062-7751-4b84-8e17-6314e8a0d723",
   "metadata": {},
   "outputs": [
    {
     "data": {
      "text/plain": [
       "dict_keys(['meta', 'values', 'status'])"
      ]
     },
     "execution_count": 43,
     "metadata": {},
     "output_type": "execute_result"
    }
   ],
   "source": [
    "kroger_info.keys()"
   ]
  },
  {
   "cell_type": "code",
   "execution_count": 44,
   "id": "34cbe5eb-6a00-4b28-91ef-42f777942e05",
   "metadata": {},
   "outputs": [
    {
     "data": {
      "text/plain": [
       "{'symbol': 'KR',\n",
       " 'interval': '1day',\n",
       " 'currency': 'USD',\n",
       " 'exchange_timezone': 'America/New_York',\n",
       " 'exchange': 'NYSE',\n",
       " 'type': 'Common Stock'}"
      ]
     },
     "execution_count": 44,
     "metadata": {},
     "output_type": "execute_result"
    }
   ],
   "source": [
    "kroger_info['meta']"
   ]
  },
  {
   "cell_type": "code",
   "execution_count": 45,
   "id": "8be309d8-ab9e-4157-8dc6-0904cfe98b8a",
   "metadata": {},
   "outputs": [
    {
     "data": {
      "text/plain": [
       "{'datetime': '2021-05-28',\n",
       " 'open': '36.51000',\n",
       " 'high': '37.24000',\n",
       " 'low': '36.45000',\n",
       " 'close': '36.98000',\n",
       " 'volume': '11356367'}"
      ]
     },
     "execution_count": 45,
     "metadata": {},
     "output_type": "execute_result"
    }
   ],
   "source": [
    "kroger_info['values'][0]"
   ]
  },
  {
   "cell_type": "code",
   "execution_count": 46,
   "id": "abe4cae0-3f5e-4692-ba76-b31b257b5f46",
   "metadata": {},
   "outputs": [
    {
     "data": {
      "text/plain": [
       "30"
      ]
     },
     "execution_count": 46,
     "metadata": {},
     "output_type": "execute_result"
    }
   ],
   "source": [
    "len(kroger_info['values'])"
   ]
  },
  {
   "cell_type": "code",
   "execution_count": null,
   "id": "3d1581ba-f7a8-4ca7-94da-926b46f843cf",
   "metadata": {},
   "outputs": [],
   "source": []
  },
  {
   "cell_type": "code",
   "execution_count": 61,
   "id": "7e0e3576-ff7c-4176-aa59-21b1a8247919",
   "metadata": {},
   "outputs": [],
   "source": [
    "param_dict = {\n",
    "    'symbol': 'BTC/USD',\n",
    "    'interval': '1week',\n",
    "    'ouputsize': 12,\n",
    "    'apikey': API_KEY\n",
    "}\n",
    "response = requests.get(URL, params=param_dict)"
   ]
  },
  {
   "cell_type": "code",
   "execution_count": 62,
   "id": "a3a05c4e-cf1f-4c6a-8009-0e6105c76751",
   "metadata": {},
   "outputs": [
    {
     "data": {
      "text/plain": [
       "<Response [200]>"
      ]
     },
     "execution_count": 62,
     "metadata": {},
     "output_type": "execute_result"
    }
   ],
   "source": [
    "response"
   ]
  },
  {
   "cell_type": "code",
   "execution_count": 63,
   "id": "1257c69f-fa75-4e11-b2e4-d32676226b6a",
   "metadata": {},
   "outputs": [],
   "source": [
    "btc_info = response.json()"
   ]
  },
  {
   "cell_type": "code",
   "execution_count": 64,
   "id": "c50d5cb2-be2d-44c8-8c46-c9516426c12d",
   "metadata": {},
   "outputs": [],
   "source": [
    "import pandas as pd\n",
    "btc_df = pd.DataFrame(btc_info['values'])"
   ]
  },
  {
   "cell_type": "code",
   "execution_count": 67,
   "id": "bb17c3bf-8f9e-48e4-a2f1-e1fd933ddb6c",
   "metadata": {
    "collapsed": true,
    "jupyter": {
     "outputs_hidden": true
    },
    "tags": []
   },
   "outputs": [
    {
     "data": {
      "text/html": [
       "<div>\n",
       "<style scoped>\n",
       "    .dataframe tbody tr th:only-of-type {\n",
       "        vertical-align: middle;\n",
       "    }\n",
       "\n",
       "    .dataframe tbody tr th {\n",
       "        vertical-align: top;\n",
       "    }\n",
       "\n",
       "    .dataframe thead th {\n",
       "        text-align: right;\n",
       "    }\n",
       "</style>\n",
       "<table border=\"1\" class=\"dataframe\">\n",
       "  <thead>\n",
       "    <tr style=\"text-align: right;\">\n",
       "      <th></th>\n",
       "      <th>datetime</th>\n",
       "      <th>open</th>\n",
       "      <th>high</th>\n",
       "      <th>low</th>\n",
       "      <th>close</th>\n",
       "    </tr>\n",
       "  </thead>\n",
       "  <tbody>\n",
       "    <tr>\n",
       "      <th>0</th>\n",
       "      <td>2021-05-24</td>\n",
       "      <td>34715.39844</td>\n",
       "      <td>40736.12109</td>\n",
       "      <td>34460.12109</td>\n",
       "      <td>35097.78125</td>\n",
       "    </tr>\n",
       "    <tr>\n",
       "      <th>1</th>\n",
       "      <td>2021-05-17</td>\n",
       "      <td>46454.32812</td>\n",
       "      <td>46517.03906</td>\n",
       "      <td>30388.19922</td>\n",
       "      <td>34663.05859</td>\n",
       "    </tr>\n",
       "    <tr>\n",
       "      <th>2</th>\n",
       "      <td>2021-05-10</td>\n",
       "      <td>58352.82031</td>\n",
       "      <td>59500.00000</td>\n",
       "      <td>43905.39844</td>\n",
       "      <td>46393.80078</td>\n",
       "    </tr>\n",
       "    <tr>\n",
       "      <th>3</th>\n",
       "      <td>2021-05-03</td>\n",
       "      <td>56565.51953</td>\n",
       "      <td>59461.30078</td>\n",
       "      <td>53992.01172</td>\n",
       "      <td>58214.39844</td>\n",
       "    </tr>\n",
       "    <tr>\n",
       "      <th>4</th>\n",
       "      <td>2021-04-26</td>\n",
       "      <td>49078.35938</td>\n",
       "      <td>58444.10156</td>\n",
       "      <td>48813.80859</td>\n",
       "      <td>56600.44922</td>\n",
       "    </tr>\n",
       "    <tr>\n",
       "      <th>5</th>\n",
       "      <td>2021-04-19</td>\n",
       "      <td>56137.16016</td>\n",
       "      <td>57489.98828</td>\n",
       "      <td>47059.69141</td>\n",
       "      <td>48961.85156</td>\n",
       "    </tr>\n",
       "    <tr>\n",
       "      <th>6</th>\n",
       "      <td>2021-04-12</td>\n",
       "      <td>60150.00000</td>\n",
       "      <td>64776.30859</td>\n",
       "      <td>51838.41016</td>\n",
       "      <td>56185.55078</td>\n",
       "    </tr>\n",
       "    <tr>\n",
       "      <th>7</th>\n",
       "      <td>2021-04-05</td>\n",
       "      <td>58242.35156</td>\n",
       "      <td>61282.00000</td>\n",
       "      <td>55496.46875</td>\n",
       "      <td>59976.48047</td>\n",
       "    </tr>\n",
       "    <tr>\n",
       "      <th>8</th>\n",
       "      <td>2021-03-29</td>\n",
       "      <td>55794.39062</td>\n",
       "      <td>60154.37109</td>\n",
       "      <td>54961.12891</td>\n",
       "      <td>58192.76172</td>\n",
       "    </tr>\n",
       "    <tr>\n",
       "      <th>9</th>\n",
       "      <td>2021-03-22</td>\n",
       "      <td>57440.92969</td>\n",
       "      <td>58389.42969</td>\n",
       "      <td>50472.98828</td>\n",
       "      <td>55756.69141</td>\n",
       "    </tr>\n",
       "    <tr>\n",
       "      <th>10</th>\n",
       "      <td>2021-03-15</td>\n",
       "      <td>59149.55859</td>\n",
       "      <td>60573.42969</td>\n",
       "      <td>53364.76172</td>\n",
       "      <td>57385.01172</td>\n",
       "    </tr>\n",
       "    <tr>\n",
       "      <th>11</th>\n",
       "      <td>2021-03-08</td>\n",
       "      <td>50871.19141</td>\n",
       "      <td>61827.03906</td>\n",
       "      <td>49327.94141</td>\n",
       "      <td>59176.12109</td>\n",
       "    </tr>\n",
       "    <tr>\n",
       "      <th>12</th>\n",
       "      <td>2021-03-01</td>\n",
       "      <td>45202.85938</td>\n",
       "      <td>52557.46875</td>\n",
       "      <td>44978.28125</td>\n",
       "      <td>50984.01172</td>\n",
       "    </tr>\n",
       "    <tr>\n",
       "      <th>13</th>\n",
       "      <td>2021-02-22</td>\n",
       "      <td>57461.83984</td>\n",
       "      <td>57468.51953</td>\n",
       "      <td>43073.14844</td>\n",
       "      <td>45106.73047</td>\n",
       "    </tr>\n",
       "    <tr>\n",
       "      <th>14</th>\n",
       "      <td>2021-02-15</td>\n",
       "      <td>48621.53906</td>\n",
       "      <td>58333.32031</td>\n",
       "      <td>45748.92188</td>\n",
       "      <td>57420.16016</td>\n",
       "    </tr>\n",
       "    <tr>\n",
       "      <th>15</th>\n",
       "      <td>2021-02-08</td>\n",
       "      <td>38817.94141</td>\n",
       "      <td>49699.94922</td>\n",
       "      <td>38050.12109</td>\n",
       "      <td>48599.96875</td>\n",
       "    </tr>\n",
       "    <tr>\n",
       "      <th>16</th>\n",
       "      <td>2021-02-01</td>\n",
       "      <td>33064.19922</td>\n",
       "      <td>40913.71875</td>\n",
       "      <td>32315.00000</td>\n",
       "      <td>38850.00000</td>\n",
       "    </tr>\n",
       "    <tr>\n",
       "      <th>17</th>\n",
       "      <td>2021-01-25</td>\n",
       "      <td>32239.57031</td>\n",
       "      <td>38495.71094</td>\n",
       "      <td>29301.72070</td>\n",
       "      <td>33094.28125</td>\n",
       "    </tr>\n",
       "    <tr>\n",
       "      <th>18</th>\n",
       "      <td>2021-01-18</td>\n",
       "      <td>35906.26172</td>\n",
       "      <td>37800.00000</td>\n",
       "      <td>28905.57031</td>\n",
       "      <td>32224.51953</td>\n",
       "    </tr>\n",
       "    <tr>\n",
       "      <th>19</th>\n",
       "      <td>2021-01-11</td>\n",
       "      <td>38193.17969</td>\n",
       "      <td>40053.91016</td>\n",
       "      <td>30467.93945</td>\n",
       "      <td>35838.42969</td>\n",
       "    </tr>\n",
       "    <tr>\n",
       "      <th>20</th>\n",
       "      <td>2021-01-04</td>\n",
       "      <td>33013.26172</td>\n",
       "      <td>41884.07031</td>\n",
       "      <td>28259.11914</td>\n",
       "      <td>38194.71875</td>\n",
       "    </tr>\n",
       "    <tr>\n",
       "      <th>21</th>\n",
       "      <td>2020-12-28</td>\n",
       "      <td>26293.99023</td>\n",
       "      <td>34735.92969</td>\n",
       "      <td>25926.24023</td>\n",
       "      <td>32942.14844</td>\n",
       "    </tr>\n",
       "    <tr>\n",
       "      <th>22</th>\n",
       "      <td>2020-12-21</td>\n",
       "      <td>23454.85938</td>\n",
       "      <td>28382.09961</td>\n",
       "      <td>22030.44922</td>\n",
       "      <td>26270.83008</td>\n",
       "    </tr>\n",
       "    <tr>\n",
       "      <th>23</th>\n",
       "      <td>2020-12-14</td>\n",
       "      <td>19166.31055</td>\n",
       "      <td>24286.36914</td>\n",
       "      <td>19006.00000</td>\n",
       "      <td>23479.57031</td>\n",
       "    </tr>\n",
       "    <tr>\n",
       "      <th>24</th>\n",
       "      <td>2020-12-07</td>\n",
       "      <td>19391.31055</td>\n",
       "      <td>19419.74023</td>\n",
       "      <td>17604.48047</td>\n",
       "      <td>19180.06055</td>\n",
       "    </tr>\n",
       "    <tr>\n",
       "      <th>25</th>\n",
       "      <td>2020-11-30</td>\n",
       "      <td>18202.68945</td>\n",
       "      <td>19885.33008</td>\n",
       "      <td>18202.68945</td>\n",
       "      <td>19359.39062</td>\n",
       "    </tr>\n",
       "    <tr>\n",
       "      <th>26</th>\n",
       "      <td>2020-11-23</td>\n",
       "      <td>18449.25000</td>\n",
       "      <td>19481.15039</td>\n",
       "      <td>16221.51953</td>\n",
       "      <td>18181.65039</td>\n",
       "    </tr>\n",
       "    <tr>\n",
       "      <th>27</th>\n",
       "      <td>2020-11-16</td>\n",
       "      <td>15948.91992</td>\n",
       "      <td>18964.13086</td>\n",
       "      <td>15868.96973</td>\n",
       "      <td>18425.25000</td>\n",
       "    </tr>\n",
       "    <tr>\n",
       "      <th>28</th>\n",
       "      <td>2020-11-09</td>\n",
       "      <td>15483.80957</td>\n",
       "      <td>16470.00000</td>\n",
       "      <td>14814.88965</td>\n",
       "      <td>15949.41016</td>\n",
       "    </tr>\n",
       "    <tr>\n",
       "      <th>29</th>\n",
       "      <td>2020-11-02</td>\n",
       "      <td>13765.73047</td>\n",
       "      <td>15957.51953</td>\n",
       "      <td>13210.12988</td>\n",
       "      <td>15481.76953</td>\n",
       "    </tr>\n",
       "  </tbody>\n",
       "</table>\n",
       "</div>"
      ],
      "text/plain": [
       "      datetime         open         high          low        close\n",
       "0   2021-05-24  34715.39844  40736.12109  34460.12109  35097.78125\n",
       "1   2021-05-17  46454.32812  46517.03906  30388.19922  34663.05859\n",
       "2   2021-05-10  58352.82031  59500.00000  43905.39844  46393.80078\n",
       "3   2021-05-03  56565.51953  59461.30078  53992.01172  58214.39844\n",
       "4   2021-04-26  49078.35938  58444.10156  48813.80859  56600.44922\n",
       "5   2021-04-19  56137.16016  57489.98828  47059.69141  48961.85156\n",
       "6   2021-04-12  60150.00000  64776.30859  51838.41016  56185.55078\n",
       "7   2021-04-05  58242.35156  61282.00000  55496.46875  59976.48047\n",
       "8   2021-03-29  55794.39062  60154.37109  54961.12891  58192.76172\n",
       "9   2021-03-22  57440.92969  58389.42969  50472.98828  55756.69141\n",
       "10  2021-03-15  59149.55859  60573.42969  53364.76172  57385.01172\n",
       "11  2021-03-08  50871.19141  61827.03906  49327.94141  59176.12109\n",
       "12  2021-03-01  45202.85938  52557.46875  44978.28125  50984.01172\n",
       "13  2021-02-22  57461.83984  57468.51953  43073.14844  45106.73047\n",
       "14  2021-02-15  48621.53906  58333.32031  45748.92188  57420.16016\n",
       "15  2021-02-08  38817.94141  49699.94922  38050.12109  48599.96875\n",
       "16  2021-02-01  33064.19922  40913.71875  32315.00000  38850.00000\n",
       "17  2021-01-25  32239.57031  38495.71094  29301.72070  33094.28125\n",
       "18  2021-01-18  35906.26172  37800.00000  28905.57031  32224.51953\n",
       "19  2021-01-11  38193.17969  40053.91016  30467.93945  35838.42969\n",
       "20  2021-01-04  33013.26172  41884.07031  28259.11914  38194.71875\n",
       "21  2020-12-28  26293.99023  34735.92969  25926.24023  32942.14844\n",
       "22  2020-12-21  23454.85938  28382.09961  22030.44922  26270.83008\n",
       "23  2020-12-14  19166.31055  24286.36914  19006.00000  23479.57031\n",
       "24  2020-12-07  19391.31055  19419.74023  17604.48047  19180.06055\n",
       "25  2020-11-30  18202.68945  19885.33008  18202.68945  19359.39062\n",
       "26  2020-11-23  18449.25000  19481.15039  16221.51953  18181.65039\n",
       "27  2020-11-16  15948.91992  18964.13086  15868.96973  18425.25000\n",
       "28  2020-11-09  15483.80957  16470.00000  14814.88965  15949.41016\n",
       "29  2020-11-02  13765.73047  15957.51953  13210.12988  15481.76953"
      ]
     },
     "execution_count": 67,
     "metadata": {},
     "output_type": "execute_result"
    }
   ],
   "source": [
    "btc_df"
   ]
  },
  {
   "cell_type": "markdown",
   "id": "d4be7525-f119-451a-9c53-34e1e04e5bdc",
   "metadata": {},
   "source": [
    "### Multiple Companies"
   ]
  },
  {
   "cell_type": "code",
   "execution_count": 68,
   "id": "7e798df1-c812-41ce-9aba-2d14174dada3",
   "metadata": {},
   "outputs": [
    {
     "name": "stdout",
     "output_type": "stream",
     "text": [
      "datetime    2021-05-24\n",
      "open          36.62000\n",
      "high          37.24000\n",
      "low           36.17000\n",
      "close         36.98000\n",
      "volume        40641047\n",
      "Name: 0, dtype: object\n",
      "datetime    2021-05-24\n",
      "open         126.01000\n",
      "high         128.32001\n",
      "low          124.55000\n",
      "close        124.61000\n",
      "volume       357243459\n",
      "Name: 0, dtype: object\n",
      "datetime    2021-05-24\n",
      "open         247.78500\n",
      "high         252.94000\n",
      "low          247.50999\n",
      "close        249.67999\n",
      "volume        99531718\n",
      "Name: 0, dtype: object\n",
      "datetime    2021-05-24\n",
      "open        3215.50000\n",
      "high        3295.72998\n",
      "low         3210.49927\n",
      "close       3223.07007\n",
      "volume        12888122\n",
      "Name: 0, dtype: object\n"
     ]
    }
   ],
   "source": [
    "companies = ['KR', 'AAPL', 'MSFT', 'AMZN']\n",
    "for company in companies:\n",
    "    param_dict = {\n",
    "        'symbol': company,\n",
    "        'interval': '1week',\n",
    "        'ouputsize': 12,\n",
    "        'apikey': API_KEY\n",
    "    }\n",
    "    header_dict = {\n",
    "        'apikey': API_KEY\n",
    "    }\n",
    "    response = requests.get(URL, params=param_dict, headers=header_dict)\n",
    "    df = pd.DataFrame(response.json()['values'])\n",
    "    print(df.loc[0])"
   ]
  },
  {
   "cell_type": "code",
   "execution_count": null,
   "id": "6a84c25e-12b4-4e5d-9034-224aadd1a99f",
   "metadata": {},
   "outputs": [],
   "source": []
  }
 ],
 "metadata": {
  "kernelspec": {
   "display_name": "Python 3",
   "language": "python",
   "name": "python3"
  },
  "language_info": {
   "codemirror_mode": {
    "name": "ipython",
    "version": 3
   },
   "file_extension": ".py",
   "mimetype": "text/x-python",
   "name": "python",
   "nbconvert_exporter": "python",
   "pygments_lexer": "ipython3",
   "version": "3.8.8"
  }
 },
 "nbformat": 4,
 "nbformat_minor": 5
}
