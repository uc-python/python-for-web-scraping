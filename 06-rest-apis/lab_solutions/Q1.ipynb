{
 "cells": [
  {
   "cell_type": "markdown",
   "metadata": {},
   "source": [
    "# Lab Question 1\n",
    "\n",
    "Query the Rest Countries API ([restcountries.eu](https://restcountries.eu)) by country name.\n",
    "Search for Yemen.\n",
    "\n",
    "a) What is its capital?\n",
    "\n",
    "b) What is the name of its primary language?\n",
    "\n",
    "c) How many regional blocs is it in?"
   ]
  },
  {
   "cell_type": "markdown",
   "metadata": {},
   "source": [
    "## Solution"
   ]
  },
  {
   "cell_type": "markdown",
   "metadata": {},
   "source": [
    "First we need to fetch the info about Yemen."
   ]
  },
  {
   "cell_type": "code",
   "execution_count": 1,
   "metadata": {},
   "outputs": [],
   "source": [
    "import requests\n",
    "URL = 'https://restcountries.eu/rest/v2/name/'\n",
    "COUNTRY = 'yemen'\n",
    "\n",
    "response = requests.get(URL + COUNTRY)"
   ]
  },
  {
   "cell_type": "code",
   "execution_count": 2,
   "metadata": {},
   "outputs": [
    {
     "data": {
      "text/plain": [
       "1"
      ]
     },
     "execution_count": 2,
     "metadata": {},
     "output_type": "execute_result"
    }
   ],
   "source": [
    "result = response.json()\n",
    "# Remember we always get a list back, even if we queried a specific country.\n",
    "len(result)"
   ]
  },
  {
   "cell_type": "code",
   "execution_count": 3,
   "metadata": {},
   "outputs": [
    {
     "data": {
      "text/plain": [
       "{'name': 'Yemen',\n",
       " 'topLevelDomain': ['.ye'],\n",
       " 'alpha2Code': 'YE',\n",
       " 'alpha3Code': 'YEM',\n",
       " 'callingCodes': ['967'],\n",
       " 'capital': \"Sana'a\",\n",
       " 'altSpellings': ['YE', 'Yemeni Republic', 'al-Jumhūriyyah al-Yamaniyyah'],\n",
       " 'region': 'Asia',\n",
       " 'subregion': 'Western Asia',\n",
       " 'population': 27478000,\n",
       " 'latlng': [15.0, 48.0],\n",
       " 'demonym': 'Yemeni',\n",
       " 'area': 527968.0,\n",
       " 'gini': 37.7,\n",
       " 'timezones': ['UTC+03:00'],\n",
       " 'borders': ['OMN', 'SAU'],\n",
       " 'nativeName': 'اليَمَن',\n",
       " 'numericCode': '887',\n",
       " 'currencies': [{'code': 'YER', 'name': 'Yemeni rial', 'symbol': '﷼'}],\n",
       " 'languages': [{'iso639_1': 'ar',\n",
       "   'iso639_2': 'ara',\n",
       "   'name': 'Arabic',\n",
       "   'nativeName': 'العربية'}],\n",
       " 'translations': {'de': 'Jemen',\n",
       "  'es': 'Yemen',\n",
       "  'fr': 'Yémen',\n",
       "  'ja': 'イエメン',\n",
       "  'it': 'Yemen',\n",
       "  'br': 'Iêmen',\n",
       "  'pt': 'Iémen',\n",
       "  'nl': 'Jemen',\n",
       "  'hr': 'Jemen',\n",
       "  'fa': 'یمن'},\n",
       " 'flag': 'https://restcountries.eu/data/yem.svg',\n",
       " 'regionalBlocs': [{'acronym': 'AL',\n",
       "   'name': 'Arab League',\n",
       "   'otherAcronyms': [],\n",
       "   'otherNames': ['جامعة الدول العربية',\n",
       "    'Jāmiʻat ad-Duwal al-ʻArabīyah',\n",
       "    'League of Arab States']}],\n",
       " 'cioc': 'YEM'}"
      ]
     },
     "execution_count": 3,
     "metadata": {},
     "output_type": "execute_result"
    }
   ],
   "source": [
    "# Since there was only one result, we can extract it and know it's Yemen\n",
    "yemen_info = result[0]\n",
    "yemen_info"
   ]
  },
  {
   "cell_type": "markdown",
   "metadata": {},
   "source": [
    "First, its capital:"
   ]
  },
  {
   "cell_type": "code",
   "execution_count": 4,
   "metadata": {},
   "outputs": [
    {
     "data": {
      "text/plain": [
       "\"Sana'a\""
      ]
     },
     "execution_count": 4,
     "metadata": {},
     "output_type": "execute_result"
    }
   ],
   "source": [
    "yemen_info['capital']"
   ]
  },
  {
   "cell_type": "markdown",
   "metadata": {},
   "source": [
    "Then its primary language:"
   ]
  },
  {
   "cell_type": "code",
   "execution_count": 5,
   "metadata": {},
   "outputs": [
    {
     "data": {
      "text/plain": [
       "'Arabic'"
      ]
     },
     "execution_count": 5,
     "metadata": {},
     "output_type": "execute_result"
    }
   ],
   "source": [
    "yemen_info['languages'][0]['name']"
   ]
  },
  {
   "cell_type": "markdown",
   "metadata": {},
   "source": [
    "And last, how many regional blocs it's in:"
   ]
  },
  {
   "cell_type": "code",
   "execution_count": 6,
   "metadata": {},
   "outputs": [
    {
     "data": {
      "text/plain": [
       "1"
      ]
     },
     "execution_count": 6,
     "metadata": {},
     "output_type": "execute_result"
    }
   ],
   "source": [
    "len(yemen_info['regionalBlocs'])"
   ]
  }
 ],
 "metadata": {
  "kernelspec": {
   "display_name": "uc-python-scraping",
   "language": "python",
   "name": "uc-python-scraping"
  },
  "language_info": {
   "codemirror_mode": {
    "name": "ipython",
    "version": 3
   },
   "file_extension": ".py",
   "mimetype": "text/x-python",
   "name": "python",
   "nbconvert_exporter": "python",
   "pygments_lexer": "ipython3",
   "version": "3.8.8"
  }
 },
 "nbformat": 4,
 "nbformat_minor": 4
}
