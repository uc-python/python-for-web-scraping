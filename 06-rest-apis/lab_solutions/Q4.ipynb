{
 "cells": [
  {
   "cell_type": "markdown",
   "metadata": {},
   "source": [
    "# Lab Question 4\n",
    "\n",
    "The Hipo Labs API allows you to search for universities in a given country.\n",
    "The endpoint for this service is `http://universities.hipolabs.com/search`, and it accepts GET requests with a parameter called \"country\".\n",
    "\n",
    "Search for all universities in Luxembourg.\n",
    "How many are there?"
   ]
  },
  {
   "cell_type": "markdown",
   "metadata": {},
   "source": [
    "## Solution"
   ]
  },
  {
   "cell_type": "code",
   "execution_count": 20,
   "metadata": {},
   "outputs": [],
   "source": [
    "URL = 'http://universities.hipolabs.com/search'\n",
    "PARAMS = {'country': 'Luxembourg'}"
   ]
  },
  {
   "cell_type": "code",
   "execution_count": 21,
   "metadata": {},
   "outputs": [
    {
     "data": {
      "text/plain": [
       "<Response [200]>"
      ]
     },
     "execution_count": 21,
     "metadata": {},
     "output_type": "execute_result"
    }
   ],
   "source": [
    "import requests\n",
    "\n",
    "response = requests.get(URL, params=PARAMS)\n",
    "response"
   ]
  },
  {
   "cell_type": "code",
   "execution_count": 24,
   "metadata": {},
   "outputs": [
    {
     "data": {
      "text/plain": [
       "[{'state-province': None,\n",
       "  'web_pages': ['http://www.iuil.lu/'],\n",
       "  'alpha_two_code': 'LU',\n",
       "  'country': 'Luxembourg',\n",
       "  'name': 'International University Institute of Luxembourg',\n",
       "  'domains': ['iuil.lu']},\n",
       " {'state-province': None,\n",
       "  'web_pages': ['http://www.uni.lu/'],\n",
       "  'alpha_two_code': 'LU',\n",
       "  'country': 'Luxembourg',\n",
       "  'name': 'University of Luxemburg',\n",
       "  'domains': ['uni.lu']}]"
      ]
     },
     "execution_count": 24,
     "metadata": {},
     "output_type": "execute_result"
    }
   ],
   "source": [
    "unis = response.json()\n",
    "unis"
   ]
  },
  {
   "cell_type": "code",
   "execution_count": 25,
   "metadata": {},
   "outputs": [
    {
     "data": {
      "text/plain": [
       "2"
      ]
     },
     "execution_count": 25,
     "metadata": {},
     "output_type": "execute_result"
    }
   ],
   "source": [
    "len(unis)"
   ]
  },
  {
   "cell_type": "markdown",
   "metadata": {},
   "source": [
    "Just two!"
   ]
  }
 ],
 "metadata": {
  "kernelspec": {
   "display_name": "uc-python-scraping",
   "language": "python",
   "name": "uc-python-scraping"
  },
  "language_info": {
   "codemirror_mode": {
    "name": "ipython",
    "version": 3
   },
   "file_extension": ".py",
   "mimetype": "text/x-python",
   "name": "python",
   "nbconvert_exporter": "python",
   "pygments_lexer": "ipython3",
   "version": "3.8.8"
  }
 },
 "nbformat": 4,
 "nbformat_minor": 4
}
